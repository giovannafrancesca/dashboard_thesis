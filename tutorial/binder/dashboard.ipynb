{
 "cells": [
  {
   "cell_type": "raw",
   "id": "ca8673a7",
   "metadata": {},
   "source": [
    "conda install -c anaconda anaconda-project\n",
    "conda install -c anaconda datashader\n",
    "conda install -c conda-forge holoviews\n",
    "conda install -c conda-forge fastparquet\n",
    "conda install -c conda-forge hvplot\n",
    "conda install -c pyviz panel"
   ]
  }
